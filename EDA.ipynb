{
 "cells": [
  {
   "cell_type": "code",
   "execution_count": null,
   "metadata": {},
   "outputs": [],
   "source": [
    "import matplotlib.pyplot as plt\n",
    "import numpy as np\n",
    "import pandas as pd\n",
    "import scipy.stats \n",
    "import seaborn as sns\n",
    "from scipy.stats import ttest_ind"
   ]
  },
  {
   "cell_type": "markdown",
   "metadata": {},
   "source": [
    "Import the cleaned data as a dataframe:"
   ]
  },
  {
   "cell_type": "code",
   "execution_count": null,
   "metadata": {},
   "outputs": [],
   "source": [
    "df = pd.read_pickle(\"cleaned_data.pkl\")"
   ]
  },
  {
   "cell_type": "markdown",
   "metadata": {},
   "source": [
    "We wish to visualise what relationships exist between our target variable (\"stroke\") and the features.\n",
    "Experimenting with catplots of the numerical features, we see that age, hypertension and bmi have a clear difference in distribution, when we compare patients who have experienced a stroke versus those who haven't:"
   ]
  },
  {
   "cell_type": "code",
   "execution_count": null,
   "metadata": {},
   "outputs": [],
   "source": [
    "g = sns.catplot(x=\"stroke\", \n",
    "                y=\"age\", \n",
    "                data=df,  \n",
    "                kind=\"violin\",\n",
    "                color=\"green\")\n"
   ]
  },
  {
   "cell_type": "markdown",
   "metadata": {},
   "source": [
    "We can verify this by doing t-tests for each future to see if the difference between the two populations of patients (stroke vs no stroke) is statistically different, using a standard p-value threshold of 0.05:"
   ]
  },
  {
   "cell_type": "code",
   "execution_count": null,
   "metadata": {},
   "outputs": [],
   "source": [
    "numeric_columns = df.select_dtypes(include=np.number).columns.tolist()\n",
    "numeric_columns.remove(\"id\")\n",
    "numeric_columns.remove(\"stroke\")\n",
    "pos_mask = (df[\"stroke\"] > 0.5)\n",
    "positive_stroke = df[pos_mask]\n",
    "negative_stroke = df[~pos_mask]\n",
    "for col in numeric_columns:\n",
    "    t_statistic, p_value = ttest_ind(positive_stroke[col], negative_stroke[col], equal_var=False)\n",
    "    print(f\"Results for {col}: \\n t_statistic = {t_statistic}, p_value = {p_value} \")"
   ]
  },
  {
   "cell_type": "markdown",
   "metadata": {},
   "source": [
    "Results for age: \n",
    " t_statistic = 21.91012813839172, p_value = 7.371986041841149e-61 \n",
    "Results for hypertension: \n",
    " t_statistic = 5.886958676489632, p_value = 1.4809111107960078e-08 \n",
    "Results for heart_disease: \n",
    " t_statistic = 5.069316213180781, p_value = 8.624300407089754e-07 \n",
    "Results for avg_glucose_level: \n",
    " t_statistic = 1.2236024168406514, p_value = 0.2223516620988339 \n",
    "Results for bmi: \n",
    " t_statistic = 0.9910682785512911, p_value = 0.3226877381798354 "
   ]
  },
  {
   "cell_type": "markdown",
   "metadata": {},
   "source": [
    "These are encouraging results that suggest three of our numerical features are correlated with stroke probability, and will thus have good predicitve power when it comes to training classification models later.\n",
    "\n",
    "We can now do the same for our categorical features. For each feature, we can split the data by category and stroke outcome (0 or 1).\n",
    "Any strong patterns will then hopefully become clear to see."
   ]
  },
  {
   "cell_type": "code",
   "execution_count": null,
   "metadata": {},
   "outputs": [],
   "source": [
    "text_columns = df.select_dtypes(include=object).columns.tolist() # list of categorical features\n",
    "fig, axes = plt.subplots(nrows=1, ncols=5, figsize=(15, 6)) # first create pie charts for those with stroke = 1\n",
    "fig.suptitle('Categorical features for stroke sufferers')\n",
    "for i in range(len(text_columns)):\n",
    "    col = text_columns[i]\n",
    "    pos_data = positive_stroke[col]\n",
    "    pos_category_split = dict(pos_data.value_counts())\n",
    "    axes[i].pie(pos_data.value_counts(), labels=pos_category_split.keys(), autopct='%1.0f%%')\n",
    "    axes[i].set_title(col, fontsize=12)\n",
    "    fig.tight_layout()\n",
    "    \n",
    "    \n",
    "    "
   ]
  },
  {
   "cell_type": "code",
   "execution_count": null,
   "metadata": {},
   "outputs": [],
   "source": [
    "fig, axes = plt.subplots(nrows=1, ncols=5, figsize=(15, 6)) # now do the same for stroke = 0 \n",
    "fig.suptitle('Categorical features for non stroke sufferers')\n",
    "for i in range(len(text_columns)):\n",
    "    col = text_columns[i]\n",
    "    neg_data = negative_stroke[col]\n",
    "    neg_category_split = dict(neg_data.value_counts())\n",
    "    axes[i].pie(neg_data.value_counts(), labels=neg_category_split.keys(), autopct='%1.0f%%')\n",
    "    axes[i].set_title(col, fontsize=12)\n",
    "    fig.tight_layout()"
   ]
  },
  {
   "cell_type": "markdown",
   "metadata": {},
   "source": [
    "The differences in distribution are less pronounced here, with only ever_married and smoking_status exhibiting moderate significance.\n",
    "The marriage correlation could plausibly be simply as a weak proxy for age, which we already know to be a strong predictor."
   ]
  }
 ],
 "metadata": {
  "kernelspec": {
   "display_name": "stroke_prediction",
   "language": "python",
   "name": "python3"
  },
  "language_info": {
   "codemirror_mode": {
    "name": "ipython",
    "version": 3
   },
   "file_extension": ".py",
   "mimetype": "text/x-python",
   "name": "python",
   "nbconvert_exporter": "python",
   "pygments_lexer": "ipython3",
   "version": "3.12.0"
  }
 },
 "nbformat": 4,
 "nbformat_minor": 2
}
