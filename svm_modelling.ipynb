{
 "cells": [
  {
   "cell_type": "code",
   "execution_count": 800,
   "metadata": {},
   "outputs": [],
   "source": [
    "import numpy as np\n",
    "import pandas as pd\n",
    "from sklearn import metrics\n",
    "from sklearn.svm import SVC\n",
    "from sklearn.preprocessing import OneHotEncoder\n",
    "from sklearn.model_selection import train_test_split"
   ]
  },
  {
   "cell_type": "code",
   "execution_count": 801,
   "metadata": {},
   "outputs": [],
   "source": [
    "df = pd.read_pickle(\"cleaned_data.pkl\") # import dataset"
   ]
  },
  {
   "cell_type": "code",
   "execution_count": 802,
   "metadata": {},
   "outputs": [],
   "source": [
    "def encode_categorical_features(dt: pd.DataFrame):\n",
    "    dt.drop(\"id\", axis=1, inplace=True)\n",
    "    text_columns = dt.select_dtypes(include=object).columns.tolist() #lists categorical features\n",
    "    encoded_df = pd.DataFrame()\n",
    "    for col in text_columns: #iterate through categorical features\n",
    "        enc = OneHotEncoder(sparse_output=False) # init one hot encoder\n",
    "        col_data = dt[[col]] # select column data\n",
    "        enc_col = pd.DataFrame(enc.fit_transform(col_data), columns= enc.categories_) # fit encoder and transform data. Then convert to dataframe\n",
    "        encoded_df = pd.concat([encoded_df, enc_col], axis=1)\n",
    "       \n",
    "           \n",
    "    numeric_df= dt.select_dtypes(include=np.number) # select dataframe of numerical columns\n",
    "    encoded_df.reset_index(inplace=True) # reset indices of both dataframes so they can be merged on the index column\n",
    "    numeric_df.reset_index(inplace=True)\n",
    "    df_merged = pd.merge(encoded_df, numeric_df, left_index=True, right_index=True) # merge numeric with encoded categorical\n",
    "    df_merged.columns = df_merged.columns.astype(str) # cast column names to string, SVM doesn't like them otherwie\n",
    "    df_merged = df_merged.drop(\"('index',)\", axis = 1) # remove index columns \n",
    "    df_merged = df_merged.drop(\"index\", axis = 1)\n",
    "\n",
    "    return df_merged # return merged dataframe now ready for ML \n",
    " \n",
    " \n",
    "\n",
    "\n",
    "\n"
   ]
  },
  {
   "cell_type": "code",
   "execution_count": 803,
   "metadata": {},
   "outputs": [],
   "source": [
    "def split_data(features, labels):\n",
    "    X_train, X_test, y_train, y_test = train_test_split(features, labels, test_size=0.2, random_state=42)\n",
    "    return X_train, X_test, y_train, y_test"
   ]
  },
  {
   "cell_type": "code",
   "execution_count": 804,
   "metadata": {},
   "outputs": [],
   "source": [
    "def train_svm(x_train, y_train):\n",
    "    SVC_Gaussian = SVC(kernel=\"rbf\")\n",
    "    SVC_Gaussian.fit(x_train, y_train)\n",
    "    \n",
    "    return SVC_Gaussian"
   ]
  },
  {
   "cell_type": "code",
   "execution_count": 805,
   "metadata": {},
   "outputs": [],
   "source": [
    "if __name__ == \"__main__\":\n",
    "    df_merged = encode_categorical_features(df)\n",
    "    stroke = df_merged[\"stroke\"]\n",
    "    df_merged = df_merged.drop(\"stroke\", axis = 1)\n",
    "    X_train, X_test, y_train, y_test = split_data(df_merged, stroke)\n",
    "    model = train_svm(X_train, y_train)"
   ]
  }
 ],
 "metadata": {
  "kernelspec": {
   "display_name": "stroke_prediction",
   "language": "python",
   "name": "python3"
  },
  "language_info": {
   "codemirror_mode": {
    "name": "ipython",
    "version": 3
   },
   "file_extension": ".py",
   "mimetype": "text/x-python",
   "name": "python",
   "nbconvert_exporter": "python",
   "pygments_lexer": "ipython3",
   "version": "3.12.0"
  }
 },
 "nbformat": 4,
 "nbformat_minor": 2
}
