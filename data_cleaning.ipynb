{
 "cells": [
  {
   "cell_type": "code",
   "execution_count": null,
   "metadata": {},
   "outputs": [],
   "source": [
    "import matplotlib.pyplot as plt\n",
    "import numpy as np\n",
    "import pandas as pd"
   ]
  },
  {
   "cell_type": "markdown",
   "metadata": {},
   "source": [
    "Notebook for cleaning data so that it is ready for ML.\n"
   ]
  },
  {
   "cell_type": "code",
   "execution_count": null,
   "metadata": {},
   "outputs": [],
   "source": [
    "def load_dataset(path: str): \n",
    "    #load in the data as a pandas dataframe\n",
    "    df = pd.read_csv(path, na_values=[\"Unknown\",\"N/A\"])\n",
    "    return df\n",
    "\n",
    "def check_drop_duplicates(df: pd.DataFrame):\n",
    "    #check for id and age duplicates\n",
    "    is_duplicate = df.duplicated(subset=[\"id\",\"age\"])\n",
    "    total_duplicates = is_duplicate.sum()\n",
    "    df = df.drop_duplicates(subset=[\"id\",\"age\"])\n",
    "    return df\n",
    "                                        "
   ]
  },
  {
   "cell_type": "code",
   "execution_count": null,
   "metadata": {},
   "outputs": [],
   "source": [
    "def remove_missing_numeric_values(df: pd.DataFrame):\n",
    "    #select numeric columns\n",
    "    numeric_columns = df.select_dtypes(include=np.number).columns.tolist()\n",
    "    #only bmi has missing values (4 %)\n",
    "    #remove all children\n",
    "    mask = df[\"age\"] > 17\n",
    "    df = df[mask]\n",
    "    #remove missing values\n",
    "    df = df.dropna(subset=numeric_columns)\n",
    "    return df\n",
    "    \n",
    "    "
   ]
  },
  {
   "cell_type": "markdown",
   "metadata": {},
   "source": [
    "If we plot histograms of the continuous numerical features, we observe some unreasonable outliers for avg_glucose_level and bmi.\n",
    "The likely explanation is mistakes in entering the data. "
   ]
  },
  {
   "cell_type": "code",
   "execution_count": null,
   "metadata": {},
   "outputs": [],
   "source": [
    "def plot_histograms(f: pd.DataFrame):\n",
    "    fig, axes = plt.subplots(nrows=1, ncols=2, figsize=(10, 6))  # define the figure and subplots\n",
    "    axes = axes.ravel()  # array to 1D\n",
    "    cols = [\"avg_glucose_level\", \"bmi\"]\n",
    "    colors = ['tab:blue', 'tab:orange']  # list of colors for each subplot, otherwise all subplots will be one color\n",
    "\n",
    "    for col, color, ax in zip(cols, colors, axes):\n",
    "        f[col].plot(kind='box', ax=ax, color=color, label=col, title=col)\n",
    "        \n",
    "    fig.tight_layout()\n",
    "    plt.show()\n",
    "    \n"
   ]
  },
  {
   "cell_type": "markdown",
   "metadata": {},
   "source": [
    "We will replace the outliers in these two features with the median in each case:"
   ]
  },
  {
   "cell_type": "code",
   "execution_count": null,
   "metadata": {},
   "outputs": [],
   "source": [
    "def replace_outliers(df: pd.DataFrame):\n",
    "    bmi_max = 50 #values above this will be replaced\n",
    "    bmi_median = np.median(df[\"bmi\"])\n",
    "    print(bmi_median)\n",
    "    avg_glucose_max = 180\n",
    "    glucose_median = np.median(df[\"avg_glucose_level\"])\n",
    "    print(glucose_median)\n",
    "    df[\"bmi\"] = df[\"bmi\"].apply(lambda x: bmi_median if x > bmi_max else x)\n",
    "    df[\"avg_glucose_level\"] = df[\"avg_glucose_level\"].apply(lambda x: glucose_median if x > avg_glucose_max else x)\n",
    "    return df"
   ]
  },
  {
   "cell_type": "code",
   "execution_count": null,
   "metadata": {},
   "outputs": [],
   "source": [
    "def remove_missing_categorical_values(df: pd.DataFrame):\n",
    "    text_columns = df.select_dtypes(include=object).columns.tolist()\n",
    "    # only smoking status has missing values here, but 20 % are missing. This is too high a proportion to simply drop missing values\n",
    "    # for now we will just replace with mode for this column: \"never smoked\"\n",
    "    smoking_status = df[\"smoking_status\"]\n",
    "    replacement_dict = {np.nan : \"never smoked\"}\n",
    "    smoking_status = smoking_status.replace(replacement_dict)\n",
    "    df[\"smoking_status\"] = smoking_status\n",
    "    return df\n",
    "    \n",
    "    "
   ]
  },
  {
   "cell_type": "code",
   "execution_count": null,
   "metadata": {},
   "outputs": [],
   "source": [
    "def clean_data(path: str):\n",
    "    \"\"\"_summary_\n",
    "\n",
    "    Args:\n",
    "        path (str): relative path to dataset\n",
    "\n",
    "    Returns:\n",
    "        dataframe: pandas dataframe of cleaned data\n",
    "    \"\"\"\n",
    "    df = load_dataset(path)\n",
    "    df = check_drop_duplicates(df)\n",
    "    df = remove_missing_numeric_values(df)\n",
    "    df = replace_outliers(df)\n",
    "    df = remove_missing_categorical_values(df)\n",
    "    return df"
   ]
  },
  {
   "cell_type": "code",
   "execution_count": null,
   "metadata": {},
   "outputs": [],
   "source": [
    "if __name__ == \"__main__\":\n",
    "    data_path = \"healthcare-dataset-stroke-data.csv\"\n",
    "    cleaned_data = clean_data(path=data_path)\n",
    "    #saves cleaned dataframe as a pickle file in workspace\n",
    "    plot_histograms(cleaned_data)\n",
    "    cleaned_data.to_pickle(\"cleaned_data.pkl\")\n"
   ]
  }
 ],
 "metadata": {
  "kernelspec": {
   "display_name": "stroke_prediction",
   "language": "python",
   "name": "python3"
  },
  "language_info": {
   "codemirror_mode": {
    "name": "ipython",
    "version": 3
   },
   "file_extension": ".py",
   "mimetype": "text/x-python",
   "name": "python",
   "nbconvert_exporter": "python",
   "pygments_lexer": "ipython3",
   "version": "3.12.0"
  }
 },
 "nbformat": 4,
 "nbformat_minor": 2
}
